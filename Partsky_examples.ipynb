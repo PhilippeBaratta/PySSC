{
 "cells": [
  {
   "cell_type": "code",
<<<<<<< HEAD
   "execution_count": 2,
=======
   "execution_count": 5,
>>>>>>> ae36109de4a7c5f84386cf1c1a97a18adf8c0e91
   "metadata": {},
   "outputs": [],
   "source": [
    "import math ; pi=math.pi\n",
    "import numpy as np\n",
    "import matplotlib\n",
    "import matplotlib.pyplot as plt\n",
    "%matplotlib inline\n",
    "matplotlib.rcParams['mathtext.fontset'] = 'stix'\n",
    "matplotlib.rcParams['font.family'] = 'STIXGeneral'\n",
    "import time"
   ]
  },
  {
   "cell_type": "code",
<<<<<<< HEAD
   "execution_count": 3,
=======
   "execution_count": 6,
>>>>>>> ae36109de4a7c5f84386cf1c1a97a18adf8c0e91
   "metadata": {},
   "outputs": [],
   "source": [
    "# Import PySSC module\n",
    "import PySSC"
   ]
  },
  {
   "cell_type": "markdown",
   "metadata": {},
   "source": [
    "## Define window function"
   ]
  },
  {
   "cell_type": "code",
<<<<<<< HEAD
   "execution_count": 4,
=======
   "execution_count": 7,
>>>>>>> ae36109de4a7c5f84386cf1c1a97a18adf8c0e91
   "metadata": {},
   "outputs": [],
   "source": [
    "# z bins of the survey\n",
    "zstakes = np.linspace(0.2,1.5,num=14)\n",
    "zmin = np.min(zstakes) ; zmax = np.max(zstakes)\n",
    "# Define redshift range\n",
    "nz       = 500\n",
    "z_arr    = np.linspace(0,2,num=nz+1)[1:] # Redshifts must be > 0\n",
    "# Window function\n",
    "nbins_T   = len(zstakes)-1\n",
    "windows_T = np.zeros((nbins_T,nz))\n",
    "for i in range(nbins_T):\n",
    "    zminbin = zstakes[i] ; zmaxbin = zstakes[i+1] ; Dz = zmaxbin-zminbin\n",
    "    for iz in range(nz):\n",
    "        z = z_arr[iz]\n",
    "        if ((z>zminbin) and (z<=zmaxbin)):\n",
    "            windows_T[i,iz] = 1/Dz"
   ]
  },
  {
   "cell_type": "markdown",
   "metadata": {},
   "source": [
    "## Compute Sij for full sky"
   ]
  },
  {
   "cell_type": "code",
   "execution_count": 8,
   "metadata": {},
   "outputs": [
    {
     "name": "stdout",
     "output_type": "stream",
     "text": [
      "Using mask map, given as a fits file\n",
      "lmax = 102\n",
      "f_sky = 1.00\n",
      "4.997898999999999 361.00900800000005\n"
     ]
    }
   ],
   "source": [
    "# Uses original function, for the full sky\n",
    "t0 = time.clock()\n",
    "Sijw_full = PySSC.Sij(z_arr,windows_T)\n",
    "# Uses the partial sky Sij function, but for a full sky mask (long time)\n",
    "t1 = time.clock()\n",
    "Sijw_part = PySSC.Sij_psky(z_arr,windows_T,clmask=None,mask='./masks/full_sky_map.fits') #long computation\n",
    "t2 = time.clock()\n",
    "print(t1-t0,t2-t0)"
   ]
  },
  {
   "cell_type": "code",
   "execution_count": 9,
   "metadata": {},
   "outputs": [
    {
     "data": {
      "image/png": "iVBORw0KGgoAAAANSUhEUgAAAhkAAADvCAYAAABfTsamAAAABHNCSVQICAgIfAhkiAAAAAlwSFlzAAALEgAACxIB0t1+/AAAADh0RVh0U29mdHdhcmUAbWF0cGxvdGxpYiB2ZXJzaW9uMy4xLjAsIGh0dHA6Ly9tYXRwbG90bGliLm9yZy+17YcXAAAbVklEQVR4nO3dfbRcVX3/8c/nSggNCSXhJhgwCRj4QS2FgAlKBQRBiTGoPLhilSIoEKxa26XFVEXtUiz4a6EuxYekVlGpWBQVYrgoWh6KTwQLaK2h0gaaRTXcpDFPXG4evv3jnAvDcO+dmbPPucO5vF9rzcrMOee7987M7Lnf2XufM44IAQAAlK2n2w0AAADjE0kGAACoBEkGAACoBEkGAACoBEkGAACoBEkGAACoBElGRWyfZXuH7Vtsf8j2R2x/x/afjXD8c2wvsf3Z/PExti+zfXwbdR1t+wrbJxRs62zb37L9d7bX2L4t395j+0Hb++aPz7N9ZZE6gGa2T7T9qO0f2v6w7a/avjihvLfb/vAo+w+z/T7bZ7RR1qG2P2j7zIJt+V3bX8v71Grbaxv2/cD2C/L7p9i+vmAdf2P7gmG2z7N9le2DW8Tb9p/a/oDtG0Y4Zj/bb7W9LH+82PZnbe/TRvsW2/5727/b7v+pCrYPtH2J7Yu62Y5nrYjgVtFN0sOSzmt4PEHS+aMcv0DS1oZj75V0dhv1PEfSv7Zz7AjxyyVdmN+fLOmmhn3HNdyfLmlut59XbuPnJukOSR/K70+StF7SqzuIf1HD/ZmS5oxybI+kmyS9u41yLenGdo4dIf69ki7L7+8h6TsN++ZLmpDfnyzpiIJ1zJU0vfm5yD87ftOqXEmnSfpUfv+FozwP75a0Mn88Q1JI6m2jffu1e+wYvM8+IemT3W7Hs/G2R9vZCIrY3fggInbYvm6U4x9tOnZTO5VExC7bvy3YRkk6UFlbV0TEVtsrGsr+oW1H5tHGNgIleKKPRMR22w9JOqSdQNuzJX1Z0qF5/P/Y9kjHR8Ru2xvaKTsiwvbGdo4dwYGSDs77zk7bf217SkRsiYjVQ+2MiK2Sfl6kgoh4cKgc2wslvVXSa/LPjsfaKOKFyp//iLhnhDrCdn/D4/WjPMXNsRvaPXYMbJDU2+1GlGWhHf2tD3vCPdItEbGwSF2250XEvUViJaZLxlQ+XDfB9o22P2l7b9ufsr2yw3LeYvv1tj9t+7VN+2bYviOfrjnU9iNDQ8i2X2D7G7af01TkVyUttf052/tExI358afavl/SnHzY9ErbHy/+DAAjs32kpP8n6Wbb821/zPaFtj+T73+D7dvz4ft1kk6WNDufJtnP9lWSPpkfO8321Xk/+VqrIXvbr7F9vu2/ctOUpu3JzqY6z7U9y/b9eV+ZYHumsynRvZuKvF7ZSMGNtp8bEf8cEVucTYPeKelE25PyqYp/GqY9X7F9m+19bH/B9o/y/9MBtm91NsX5BUl/mScaZ0maa/stDcW80vZNtu+1PaWp/PmSjpf0B/nzN8f2Wttn53X80Pa7R3/FntbmS/PPndudT7E27Ds+f55eYnuh7bB9Sr7vT2y/q+n442z/1Paf274mf85PsP0JZ1O4z8+POy8/5nLbb863vdj2O22/w/bfNJU7wfb1Q++ZTv5/zyT9klb39LR9U8EEy/ZiSTc3PJ5l+5u2H7Z9WTtlkGRU73V5B7hW0isjYrOkn0pSRGyT9JMCZV4k6TuS3iFpXcP2HklvlHRmRHw9Iv5D0qclPTffP1PSVRGxq7GwiPiipDdLOlvSffmHvSLiVknT8vsbJD0gqavzqxiXXmr7cknvkrQoIv5d0hmSfhQRKyS9yvZzlfWVF0taKelUSbdL2hERn8zfn/8maeiP/bH5vuskPSbplS3acKGkH0TEByX9uGnfGyRdHBFfjIj/lvT/Jc2OiB3KpniuzfvyEyLiNkmvVjY18jPbL8u3/1TZFIQjYnv+f5oxTHs+KunA/PPio5L2j4iNyqZGr4mIh5X1/T0jIiTdJWltRHyuoYz/jIjTJT0u6WVN7Vud1/2z/Pl7SNLafN8jkta0eL6ewnavpIWSviHpbZJ2NuzuVTYV/MqIuCsi+iR9X09+Lu0j6VNN7fuhsunZByLiTZK2KZu6fUcee3Z+6B8r+5K0QtIl+bZzJP0yIj4h6etNTX2tpMsb3jP11dPT/q2giFip7P065ERlCe2Rki60vX/LZhauHe26PiKWRcQbJX27pDJvlLRa0in5h8WQSyVtjnjKSNoKSWfZnizpOEn/MlyBEfF5SX8gaYuyb5KT8l2NHxYDJbUfaHR73kfeFBF3SVJEvE9ZwvtaSXtK2kvZe3FHRPx3RPxymHKeeK/mf8g+4GyR58w8fjRfkXSH7Tfmf+CGvEnSrIj4z4Zt/yTpyPzb9KuU9ceniYhvS/p9ST9TNqJxYHM7NUKfioifSdpq+1hJR0jaYfvFyv5IDi3S3DlcbIOH8n8flbTvaAemyj9ztkn6nqTBfBpoyHXK1nQ0Th9/SlliJ0kTI2K46Z1dytaWSNl0x/qG+715vadImqMsiRp6jb8m6Su236mnJownSVo80tRQrdidJhm9zhYgD92KLoK9PiJ2RcQmSf+u7DUfFUnG2Pp8SeX8tbKE4ou2L2zYfq2kD9l+3tCGiPi1pO8q+za2u6mjy/aetk/Nj31Y2YfYAZJeUFJbgY7ZPlvS6yPim8pGIjqNP0zS1cpGPda1OFzKkoxzJX3Y9kcatt8k6Y9tHz20ISIel/QFSRdImpJ/4DbX/6r82I2SXqPs2+BxHf43vijpj5T1xcslvV7S3s2jJm2qdHFEPmXzamVfYn5i+6iG3Z9T9lnVOE37LWXTO4skDZcwttKT13ulsuTiuw377lA2qnK+sudwyA8kHT302tReZ0lGf0TMb7gtL1JlRAxK2bS8pO83JZPDN7NIRWjbc9TQuRumKR5T9u1Kkmblx3XinIi4VtmQYWOH+ZWyD6NrbDe+tldL+rCGmZrJ3zSX2J6YbxrI2zf0zc2q+AMKz2o9Gv79/z5JP83fl/soG81otkPSns5Otd5DT32vXizpkXxKY8YI8Y3OiYhbJL1U0uKG7RuVDf9/2fbvNGz/jKS3SPqfEcq7oGHOfzBv6y/yx+32qX9Ulvjcq2zY/1w99Zt5Yzk7lH+T99PXXI2kuR2PSZqZJwzPU2efS3MkHRsRl0r6W2XrZYZ8RVmi9/6hDRGxU9ko66dVcIQ3X/fxp3pyymnoNT4nIn4i6Q+VvZ5DBpU9h5/J/0jWV+cjGaMU5YX5+p/m22EjHN+j7MvoR4bb34wkoyK2z1I257jYTz9f/QZJxzg7P363pAHbc5S9cJNsn2T7CGWr5k/Ipzoa/Znt85R1oqvyNRQHK1vI9XVli+e+NDQ8GxF3KJtvvW2E5k6TdLezBaIfV9ZJN9o+TlnnXZx/8AClcXZdl8Mlndr0zVfK5t2vlPT2/P77lSXUk/LFaFL2B/5+ZUPv+0s6Qdk0xhxlaxTOtf0xZX+Yz7f9EklHSzo2X0PQ6I22364swfio7bnKpikWSLpH0nZJ3xr64I2I/1L2x3/YqRJlQ/2rbX9U2Tf590bEL/J+PVfSyxsS+2FFxG8k/YOkVRHxW2V/kG/Ln7uZedtelP/B/IGkw21fouyskRmSXpE/F7+nbKHphKGybc+S9CJJ851fs0PS30t6T/58/kLZEPsByqYiDnW2kHzouiGLhmnyx/PPvSmSrrP9mnz7QkmXKZu++suGZO3zku4d7tuw7WPy/8PxeRsOyu/PlHSMsqndicoSjJskPV/SY7aXSjrZ9qWSzpR0RR5zbB7zqLLX82bbLxzpua+FkpKMiOiLiJOGuY20LudsSV+K7KzGOa2a6WzNEMaz/JvNByPiA4nlnCdpQUS8rZSGATVm+7J87UhKGSdJ+ouIGB9D+B3Ik5uj81FZdGD+HnvE6ilTWh+Y86ZN90TE/E7ryaezviHp+Ii42/Z7lI0SblM2cvSuiLhptDK4TsY4ZnsvSS9RNqfb0WmyTeXso2zEZZIKntMPjAf5iN6pyqZwCl87IO+bk/Qs7FP5mrEDlZ0J954uN6e+Es4aaVdErFI2YjT0+ApJV3RSBtMl49scZSvh5+RzlEWdrmyh1gxJXyqjYUBN7aOsD7xO2VkMRb1YUp+yYfy/K6FddfIySask3TnCWSVopcQ1GZU3lekSAADqY/6ECbF62rS2j/f69YWmS8rAdAkAAHXT5RGKdpFkAABQJ0PTJTXQUZLRa8dBKbVNn54SLXUwPDSc3ZOazwTtzPbtSeEaSLxe5uOPF4/d2eragC2ktn3XrtbHjCZ1Vi+1/Skn8EasVUR/LU8Bps8nhdPnE9S5z0tSxD39EZHYAUZgS3vUY4ygo1YepOxa1oUtWZISnRy/5ajjk+Lvuy8pXGs6+jWAp3vwweKxGxKv0v/AA2nxm9r6PdmRpX5g/jxx/f7EUa9oMLrHH+/KVGgpDhJ9PgV9vrg693lJGhjwQ62PSjAeRzIAAMAzAEkGAAAo3XhdkwEAAJ4BSDIAAEDpGMkAAACVGY9nlwAAgC5jJAMAAFSGJAMAAJSOkQwAAFAZkgwAAFAJkgwAAFC68frbJQAAoMtqtCajHq0EAABP6ulp/5bA9ryU+M5GMqZPT/tVxO99r3isJB1ySFL4lFmzkuJnzpyTFJ/6q4j9/d2re9990+IHB9Pi169Pi589Oy3+kUeKx6b+ZHVX0eeT4unzxdW5z4+JMRjJsL1Y0gpJM/PHB0n6C0lHSvpMRFzbqgxGMgAAqJOh6ZKKRzIiYqUkN2zqjYi3STpd0lntlMGaDAAA6qYLazIiYnV+9zRJV7YTQ5IBAECddH52Sa/t1Q2Pl0fE8mJV+yhJSyRNlXRyq+NJMgAAqJvORjL6I2L+cDtsL5S0bJhdSyNiTfPGiLhP0pm2v297ekQ8OlrFJBkAANRJiaewRkSfpL4CoWslbWx1EEkGAAB1MzZnlyySNNX2goi42/Y/KEss7pT02YjY1aoMkgwAAOpkjC7GFRGrJE1sePzmTssgyQAAoG5qcsVPkgwAAOqE3y4BAACVYSQDAACUrkY/kEaSAQBA3ZBkAACA0jGSAQAAKkOSAQAASjduzy6ZNk1asqR4bYccUjxWkvqKXPm0wezZSeFzX9GbFL9x496J8d2JlaTt29Pit25Ni588OS1+7dq0+N270+Jriz6fFE+fL44+3wIjGQAAoHSsyQAAAJUhyQAAAJUgyQAAAKVjugQAAFRi3J5dAgAAuo+RDAAAUAmSDAAAUDrWZAAAgMqQZAAAgNIxkgEAACozRmeX2J4XEfcWja9HKgQAADJDIxnt3gpX48WSbh5m++m2P9BOGYxkAABQN2MwXRIRK227cZvtOZJeJGlnO2UwkgEAQJ2M0UjG06v1npJOknRruzEkGQAA1E1nSUav7dUNt4sK1vpHkq7rJKCj6ZLdkyZry1HHd9SiRlNmzSocK0maPTst/sYb0+KnT08KP3JB8edOkjZtKh67eXNS1dqyJS1+27a0+I0b0+JnzEiLT1ljlfK6dRt9nj5f1LO5z0tSf39afEudjVD0R8T84XbYXihp2TC7lkbEmobj9pZ0nqQzJPUqS1wejIgvjVYxazIAAKiTEn+7JCL6JPW1cdw2SSdn1fskSSe1SjAkpksAAKiXsTu7ZJGkqbYXFC2DkQwAAOpmbM4uWSVp4jDbb5N0WztlkGQAAFA3XPETAACUjsuKAwCAypBkAACA0pV4dknV6tFKAADwJEYyAABA6ViTAQAAKkOSAQAASsdIBgAAqAQLPwEAQGUYyQAAAJUgyQAAAKUbr2sytm+X7ruveGUzZ84pHixp7it6k+I1fXpa/PXXJ4VPTKz/iCMOKxy7eXNS1dq+PS1+y5a0+AMOSItfty4tPvX5qyv6PH2+KPp8xcZjkgEAALpsvI5kAACAZwDOLgEAAKVjJAMAAFSGJAMAAJSOkQwAAFCZmiQZ9WglAAB4Uk9P+7cEtueNsL3H9t4tm5lUOwAAGFtDv13S7q1wNV4s6eambctt/0rS3ZJ2tSqD6RIAAOpkjNZkRMRK236yWs+R9F+SDo+Ine2UwUgGAAB1M0bTJU0Ol3SapHW2F7UTwEgGAAB101ny0Gt7dcPj5RGxvNMqI+IWSbfYPkHSV23PiYgdo8WQZAAAUCedT5f0R8T84YvyQknLhtm1NCLWDBcTEXfmSct+kn49WsUkGQAA1E1J0yAR0Sepr51jbe8VEQP5w62S1reKIckAAKBOhs4uqbwaL5I01faCiLhb0jW2fyvpR5Iuj4jdrcogyQAAoG7G5uySVZImNjxe0mkZHSUZAwPSmmFnaNqzYUPxWEnauLHldT9GdeSC45PiJ06fnhSvG25ICp95wQWFY+fNS2v79u1J4dqyJS1+cDAtfurU7tW/aVNa3d1En6fPF/Vs7vOS9OtRVyok4rLiAACgMiQZAACgdIxkAACAypBkAACA0o3R2SVlqEcrAQDAkxjJAAAApWNNBgAAqAxJBgAAqARJBgAAKB3TJQAAoBKcXQIAACrDSAYAACgd0yUAAKAyJBkAAKASJBkAAKB043W65PHHpQcfLF5Zf3/xWEnauDEtftOmtPgjjjgsKX7mBRekNeC66wqHzr344qSqt2+fkBQ/MJAUrh070uIHB9Pit20rHluTz4Jh0efp80U9m/t85Ti7BAAAVKYm315IMgAAqJmQu92EttQjFQIAAE/Yvbv9Wwrb84bZdprtM23v1yqeJAMAgBqJGJskw/ZiSTc3bfuYpFkRcUNEbGhVBtMlAADUTOoIRTsiYqXtJ+ZlbJ8s6eiIuKTdMkgyAACokQhp586OQnptr254vDwilheo+g2S/tf2X0k6VtI5rUYzSDIAAKiZDkcy+iNifgnVzpH0/oj4ie33SLpY0mWjBZBkAABQI0NrMspge6GkZcPsWhoRa5q2/a+kyO//UtJprconyQAAoGbKSjIiok9SX5uH3yrpaEl3S5oq6f5WAZxdAgBAjYzh2SWLJE21vSDfdI2ko2y/XtKBkr7QqgxGMgAAqJkxOrtklaSJDY8HJb2tkzJIMgAAqJECZ5d0DUkGAAA1MxYjGWUgyQAAoEbKPLukah0lGTt3ShtaXkR0ZCmxUvrPPm/e3N34efOmJ8Un/XTzl7+cVPfBrzs/KT71Z5+7HZ8yNDkh7Rezu4o+nxZPn69v/DN9OmJcJhkAAKC7xu1IBgAA6D6SDAAAUDrOLgEAAJVhJAMAAJSONRkAAKAyJBkAAKASJBkAAKB0TJcAAIBKcHYJAACoDCMZAACgEiQZAACgdKzJAAAAlSHJAAAApWMkAwAAVGaszi6xPS8i7i0a31GSMTAgPfBA0aqkffctHitJ27enxW/Z0t360+MnFI49+HXnJ9U9+dtfTYp/3olLkuLnzUsK1+Bg9+InFH/Zuo4+3+14+nxR3ezzVRurkQzbiyWtkDQzf3yppLMl7ZC0v6TzI+LW0croqbqRAACgXLt3t38rKiJWSnLDppURcVREzJd0o6TbW5XBdAkAADXSrTUZEfGvkmR7T0mOiB2tYkgyAAComQ6TjF7bqxseL4+I5QnVv0zSbe0cSJIBAEDNdJhk9OdTHE9je6GkZcPsWhoRa0Yob5Gk97VTMUkGAAA1UuZvl0REn6S+do+33SNpSkS0tayahZ8AANTI0JqMqhd+2l4kaartBQ2bj5P0o3bLYCQDAICaGYuFnxGxStLEpm13Sbqr3TJIMgAAqBmu+AkAAErHZcUBAEBlSDIAAEDpyjy7pGokGQAA1AjTJQAAoDIkGQAAoBIkGQAAoHTjdrpk1y5p06bilQ0OFo+VpK1b0+K3bUuL39LWRVSrix8Y6E6sJD3vxCVJ8TNX35QUv/Xw05Pi581LCk96706c2PqYZyr6fHfj6fPFdbPPj4VxmWQAAIDu4uwSAABQGUYyAABA6cbtmgwAANB9JBkAAKB0jGQAAIDKkGQAAIDScXYJAACoDCMZAACgdKzJAAAAlalLktHT7QYAAIDO7N7d/i2F7aQLtDOSAQBAjYzVdIntxZJWSJqZP/59SadI+o2koyLiva3KIMkAAKBGxurskohYadsNm94qaUVE3Gd7ie39ImLDaGUwXQIAQM2M1XRJk1slXWX7JEn3t0owJJIMAABqp8Mko9f26obbRUXqjIhvSloj6R8l/bidmI6mS1KHaNavLx4rSZMnp8Vv3JgWf8ABafGDg2nxO3YUjx0YSKt7XtLSH2nr4acnxR+69rtJ8ZunvTwp/phjisdOmpRUdVfR59Pi6fPF1bnPV63Amoz+iJg/3A7bCyUtG2bX0ohY03TsuZK+J+lvJfXZ/sOIGLWXsyYDAICaKWsaJCL6JPW1efgCScsj4le2V0o6UBJJBgAA48UYnl2ySNJU2wsi4m5JV0s6z/aPJfVLuq9VGSQZAADUzBidXbJK0sSGx7/Uk1Mr32inDJIMAABqhMuKAwCAypBkAACA0jGSAQAAKkOSAQAAKkGSAQAASjdWv11SBpIMAABqhDUZAACgMiQZAACgEiQZAACgdEyXAACAypBkAACA0o3bs0sGBqSf/7x4ZbNnF4+VpLVr0+JnzEiLX7cuLX7q1LT4wcHisQMD3atbkubNS4vfPO3lSfEv3H5nUvzte51QONZOqrqr6PNp8fT54urc56vGdAkAAKgMSQYAAKgESQYAACgd0yUAAKAyJBkAAKB04/bsEgAA0H11Gcno6XYDAABA+4bWZLR7S2E76WRkRjIAAKiZsRjJsL1Y0gpJM/PHz5d0hqSNknZHxDWtymAkAwCAGhmrkYyIWCmp8XKCV0j6WkR8XtIZtvdvVQZJBgAANdNhktFre3XD7aKC1R4h6bf5/YclHdsqgOkSAABqpMDZJf0RMb+Eqn8h6aWSvqUsf/idVgEkGQAA1ExZazJsL5S0bJhdSyNiTdO2d0p6r+05ykYxrm5VPkkGAAA1UuYVPyOiT1Jfm8euk/Qntg+R9OqI+LdWMazJAACgZsZi4aftRZKm2l7QsO1gSR+SdF47ZTCSAQBAzYzFKawRsUrSxKHHtg+TNFfS+RGxo50yOkoybGnixNbHjeSRR4rHSulP6h6JKdXmzWnxg4Np8du2FY9NvQRtattT4485Ji3+9r1OSIp/6aS7C8dO6Ul44bqMPp8WT58vrs59vmrd+oG0fI1G8zqNUTGSAQBAjfDbJQAAoDJ1+e0SkgwAAGqGJAMAAJSuW2syiiDJAACgZkgyAABA6RjJAAAAleHsEgAAUDpGMgAAQGVIMgAAQOkYyQAAAJUhyQAAAJUgyQAAAKXjt0sAAEAlWJMBAAAqU5ckwxHR/sH2o5Ieqq45wLg0JyKmd7sRRdDngcIq6/e2+yT1dhDSHxELq2hLKx0lGQAAAO3q6XYDAADA+ESSAQAAKkGSAQAAKkGSAQAAKkGSAQAAKkGSAQAAKkGSAQAAKkGSAQAAKkGSAQAAKvF/InN6TCCG4kIAAAAASUVORK5CYII=\n",
      "text/plain": [
       "<Figure size 576x252 with 3 Axes>"
      ]
     },
     "metadata": {},
     "output_type": "display_data"
    }
   ],
   "source": [
    "# Compare results\n",
    "fig,axes=plt.subplots(nrows=1,ncols=2,figsize=(8,3.5))\n",
    "im = axes[0].imshow(np.log(abs(Sijw_full)),interpolation='none',cmap='bwr',extent=[zmin,zmax,zmax,zmin])\n",
    "im2 = axes[1].imshow(np.log(abs(Sijw_part)),interpolation='none',cmap='bwr',extent=[zmin,zmax,zmax,zmin])\n",
    "for ax in axes:\n",
    "    ax.get_xaxis().set_ticks([])\n",
    "    ax.get_yaxis().set_ticks([])\n",
    "axes[0].set_title('Full sky Sij')\n",
    "axes[1].set_title('Partial sky Sij with full sky mask')\n",
    "fig.subplots_adjust(left=0.02,bottom=0.08,top=0.9,wspace=0.002)\n",
    "cbar_ax = fig.add_axes([0.9, 0.08, 0.02, 0.87])\n",
    "c_bar=fig.colorbar(im,cax=cbar_ax,fraction=.5)\n",
    "plt.show()"
   ]
  },
  {
   "cell_type": "markdown",
   "metadata": {},
   "source": [
    "## Compute partial sky Sij for DES"
   ]
  },
  {
   "cell_type": "code",
   "execution_count": 10,
   "metadata": {},
   "outputs": [
    {
     "name": "stdout",
     "output_type": "stream",
     "text": [
      "Computing Sij for DES mask\n",
      "Using mask map, given as a fits file\n",
      "lmax = 102\n",
      "f_sky = 0.12\n",
      "Done in 5.76 minutes\n"
     ]
    },
    {
     "data": {
      "image/png": "iVBORw0KGgoAAAANSUhEUgAAAZsAAAFXCAYAAAB0suM3AAAABHNCSVQICAgIfAhkiAAAAAlwSFlzAAALEgAACxIB0t1+/AAAADh0RVh0U29mdHdhcmUAbWF0cGxvdGxpYiB2ZXJzaW9uMy4xLjAsIGh0dHA6Ly9tYXRwbG90bGliLm9yZy+17YcXAAAVfUlEQVR4nO3df5CddXXH8ffJQog7QWOysSaA0c5AHH8Mg0ad8ceMpXUSBJpIS1ttYut0RPyj1qmiHVtx1E611VadOtRGRVtCdMa0dYYKbodaarRTnUCn/gQ1IqjFmoUghB+JS07/yIbGdXfv3d177n55eL9m7sje5z7nPA8DfnK+3+cukZlIklRp2VJfgCSp+wwbSVI5w0aSVM6wkSSVM2wkSeUMG0lSuZPm8+GxiHxy0YU8bM2a6g5w8snd6DEyUt/jpHn9I7Iw1fcxjL9Py4bw57au3McQegzjGx033XTjRGauHWTNLRE5scBzb4TxzNwyyOsZpHn9P8mTgX011/H/zj+/ugOsX1/f44lPrO+xenV9j1WrHvk9hnEPK1d2o8foaH2PFSvKWxyerA/mFSvitkHXnAD2LTCM4+jRscFezWC5jCZJKjeENRJJUt8Wusx49Ohgr2PADBtJakXEcPbNloBhI0ktMWwkSaU6PNl0864kSU1xspGklnR0sjFsJKklho0kqVSH92wMG0lqSUfDppt3JUlqipONJLXCZTRJ0lAYNpKkch0Nm27elSSpKU42ktQK92wkSUNh2EiSSjU22UTEusy8Y5Zjy4C1mfm//dRq564kScfCZiGvAYqIjRGxG7h+hmMRERcDXwFe1W9Nw0aS9LCICGASOAiMzPCRtcANwPr51HUZTZJassTLaJmZwP6IODDL8R8DRMQ986lr2EhSKxrbsxkkw0aSWmLYAGvWwPnnF13KlG98o7Y+wLZt9T2G8Q/MmjX1Pdaure+xcmVt/dHR2vpD6vHQSaeU9zh0qLwF9/94CD3ur+9RYnGTzVhE7Dvh552ZuXMAVzUQTjaS1A0TmblptoMRkT3O35GZuwZ8TQ8zbCSpJUWrIpkZJYX7ZNhIUkva2bOZ6bHn+Rz/Gc3clSQ96h3fs1n6L3VuBrYCGyJie0SsPuHYWERcyrHv2VwQEb/cT00nG0lqSQOTTWaOA+OzHJsAPjT16tvS35UkqfOcbCSpFX6pU5I0FIaNJKlcR8Omm3clSWqKk40ktcI9G0nSUBg2kqRSTjaSpKHoaNh0864kSU1xspGklnR0sjFsJKkV7tlIkobCsJEklerwZNPNu5IkNcXJRpJa0tHJxrCRpJYYNpKkUh3eszFsJKklhg1w8smwfn3RpUzZtq22PsCnPlXf46Mfre9xzz31PYZhbKy0/E8OjZTWB7j3QHkLDh+u7zE5Wd/jyJFu9ND8ONlIUitcRpMkDYVhI0kq5WQjSRqKjoZNN+9KktQUJxtJaklDk01ErMvMOwZRq527kqRHu+N7Ngt5DfQyYmNE7Aaun+HYyyLi6xFxKCK+GBHn9FPTsJGklixx2EREAJPAQWBk2rFzgPOA3wS2AquAayJiec/bGtgVSpIe8fKY/cBMX1V+AXBpZn4tM/8VeB1wGnBWr7ru2UhSKxp/9DkzPzjtrTuAnwI/7HWuYSNJLWk4bGbwHOCqzDzY64OGjSS1ZOFhMxYR+074eWdm7hzAFc1oap/mZcCr+vm8YSNJrVjcMtpEZm6avXRkj/N3ZOauefR7K/CGfqYaMGwk6VEhM2NQtSLi9cDVUw8SEBHLM3PO37Vt2EhSS9rZs5nxv80REW8Cvjv1108FTgVeAvzZXMUMG0lqRSNPo0XEZo59j2ZDRGwHrs3MuyLiD4A/n+GU3+lV07CRpJY0EDaZOQ6Mz/D+B4APLKSmYSNJLWkgbCp0864kSU1xspGkVjSyZ1PBsJGklhg2kqRSTjaSpKHoaNh0864kSU2Z32Rz8snwxCcWXcqUYaT6Rz9a3+Md7yhv8aVt7yrvMTpa3oInrait/+CDtfUB7ruvvsfdd9f3OHSovscDD9T3OHy4vkeZjk42LqNJUivcs5EkDUVHw6abdyVJaoqTjSS1wmU0SdJQGDaSpHKGjSSpVIeX0bp5V5KkpjjZSFJLOjrZGDaS1IoOL6MZNpLUEsNGklSuo2HTzbuSJDXFyUaSWuGejSRpKAwbSVIpJxtJ0lB0NGy6eVeSpEWLiHWDqmXYSFJLli1b2GuAImJjROwGrp/h2Asj4ssRcTAi9kbEU/q6rYFeoSRp4Y7v2Sxh2EREAJPAQWBk2rEnAOcBLwbWAXcC7+ynrns2ktSSJd6zycwE9kfEgRkOPwb4k6nPEBHjwAv6qWvYSJL6kpm3Hf/riFgGnANc3s+5ho0kteIR8uhzRLwUeCtwFvAfwHd7nWPYSFJLFh42YxGx74Sfd2bmzgFc0Uz+Bfgm8EfAhyNib2bun+uE+YXNyAisXr3wy+vHmjW19QHuuae8xZe2vau8x/O+8JflPf56+RvKe9x+e239iy6qrQ+wfHl9jyNH6ns88EB9j3vvre9x//31PcosPGwmMnPTbAcjInucvyMzd/XTKDMngVsj4lJgC8eW0wYYNpKkOoXLaJkZBTUzIiaA7/f6bPuLg5KkpTAy/Y2I2BAR553w89OAH2Xml3oVc7KRpJY08IBARGwGtgIbImI7cG1m3gU8A/j7iPga8GngIeDifmoaNpLUikaeRsvMcWB8hvc/AyxoY92wkaSWNBA2FQwbSWpFI5NNhW7elSSpKU42ktSSjk42ho0ktcSwkSSV6vCejWEjSS3paNh0864kSU1xspGkVriMJkkaCsNGklSuo2HTzbuSJDXFyUaSWuGejSRpKAwbSVIpJxtJ0lB0NGy6eVeSpKY42UhSSzo62Rg2ktQK92wkSUNh2AAnnQSrVhVdypS1a2vrD8noaH2Pv17+hvIev//4XeU9XvuN7aX1r7iitDwAz31ufY/16+t7HD1a32Nyshs9SnR4sunmXUmSmuIymiS1pKOTjWEjSS0xbCRJpTq8Z2PYSFJLGgqbiFiXmXcMolY7dyVJakJEbIyI3cD1PT73iYj43X5qGjaS1Irjy2gLeQ3sEiKASeAgMDLH514NvKDfui6jSVJLlngZLTMT2B8RB2b7TEQ8H7gf+G6/dZ1sJKklSzzZ9BIRvwC8JDOvns95TjaS1IrGn0aLiBHgMuCP53uuYSNJ3TAWEftO+HlnZu4ccI83Ah/MzMPzPdGwkaSWLHyymcjMTbMdjIjscf6OzOz1yxDfALz92DMEACwHXhARf5qZp891omEjSa0oXEbLzOj9qZ41nnDizxFxA/DxzPx4r3MNG0lqSTt7NrM+9rwQzdyVJKkNEbEZ2ApsiIjtEbF6sTWdbCSpJQ1MNpk5Doz38bkX91vTsJGkVjT+6PNiGDaS1BLDRpJUqsOTTTfvSpLUFCcbSWpJRycbw0aSWmLYSJJKdXjPZn5hMzICq1YVXcqUlStr6wOMjZW3eNKK8hbcfnt9j9d+Y3t5j785/59L67/mmgtK6wNMTJS3YM+e+h5bttT3GB2t73H0aH2PMh0Nm27elSSpKS6jSVIrXEaTJA2FYSNJKuVkI0kaio6GTTfvSpLUFCcbSWpJRycbw0aSWuGejSRpKDoaNt28K0lSU5xsJKkVLqNJkobCsJEkVUtiqS+hhGEjSQ15RP/G6jl0c16TJDXFyUaSGpHZ3cnGsJGkhhg2kqRSrU02EbEuM+/o8ZmTgLW9PueejSQ15OjRhb0GKSI2RsRu4PpZjl8XERkRCTxIH4OLk40k6WEREcAkcBAYmeH42cDXgbdOvXV3Zn6/V13DRpIastTLaJmZwP6IODDLR94EfAs4nJlf7beuy2iS1IjjezZLvYw2m4g4BVgDXAJ8JSJuiIh1/Zxr2EhSQ1oOm8w8nJlbMvM04DzgF4F/7Odcl9EkqRGLfBptLCL2nfDzzszcufirmllmfjYiLgRuioinZubNc31+fmEzMgKrVi3m+nobHa2tD/zk0M/teQ3cgw+Wt+Cii+p7XHFFfY/XXHNBaf2/3b63tD7Aq658UXmPc88tb8Hll9f32LatvscZZ9T3aNBEZm6a7eDUk2Nz2ZGZu+bTMDP/OyJuAR7X67NONpLUkKolscys+g2fCXy714cMG0lqRGNf6pzpsecXAk8DPpaZP42IrcBnMvOuXsV8QECSGtLCAwIRsRnYCmyIiO0RsXrq0OnAO4EvRsSbgTHgzf3UdLKRJP2MzBwHxmd4/5PAJxdS07CRpIY0tIw2UIaNJDWisT2bgTJsJKkhho0kqVSXJxufRpMklXOykaSGdHWyMWwkqSGGjSSpVJf3bAwbSWpIV8PGBwQkSeWcbCSpES6jSZKGwrCRJJUzbCRJpbq8jOYDApKkck42ktSQrk42ho0kNaLLy2iGjSQ1pKth456NJKmck40kNaSrk838wmbZMli5suhSpoyO1tYH7j1Q3oL77qvvsXx5fY/nPre+x8REbf1XXfmi2gbAx173X+U9XvGec8p7XHZZeQv27q3vsWdPfY8K7tlIkobCsJEkleryZOMDApKkck42ktSQrk42ho0kNaSlsImIdZl5xyzHngz8FvAT4N8y8+a5ahk2ktSIVvZsImIj8DbgbODpMxx/DfBa4JWZ+ZV+aho2ktSQpQ6biAhgEjgIjMxw/JXAu4FnZeat/db1AQFJ0sPymP3Az30jMSIeC7wfeN98ggYMG0lqxvFltIW8hmQb8HjgSRFxdUR8MyLeGxE9V8lcRpOkhiz1MloP5wB3AW/OzDsj4nTgq8APgffNdaKTjSQ1ZBGTzVhE7DvhdUnB5Y0CX8nMOwEy8wfAp4GLep3oZCNJjVjk02gTmblptoMRkT3O35GZu3p85n+AZ0177zag529RNGwk6VEgM2MAZW4AXh8RJ2Xm5NR7o8B3ep3oMpokNaShBwR+7rFn4PPA94ALTnjvXOCKXsWcbCSpEQ19qXMzsBXYEBHbgWsz867MzIh4GfAXEfE0YC3wkcwc71XTsJGkhrQQNlPhMWOAZOb3gN+Yb03DRpIa0kLYVHDPRpJUzslGkhrRyp5NBcNGkhpi2EiSSnV5snHPRpJUzslGkhrS1cnGsJGkRnR5GW1+YTMyAitXFl3KMQ+ddEppfYDDh8tbcPfd9T2OHKnvsX59fY89e2rrn3tubX2AV7znnPIeu9/+7fIeF7/lzPIem2b9VZGDc+qp9T2uu66mrmEjSSrX1bDxAQFJUjknG0lqhHs2kqShMGwkSaWcbCRJQ9HVsPEBAUlSOScbSWpIVycbw0aSGuGejSRpKAwbSVKpLk82PiAgSSrnZCNJDenqZGPYSFJDDBtJUin3bCRJWgQnG0lqSEuTTUSsy8w7BlHLyUaSGnF8GW0hr0GKiI0RsRu4ftr7GyLioYjIaa9396rpZCNJDVnqySYiApgEDgIj0w5fDLwUuOWE964E/qlXXcNGkhqy1GGTmQnsj4gDMxz+RGb+8PgPEXEqcDrw5V51XUaTJPXlxKCZshW4diqg5uRkI0mNeAQ++nwx8N5+PmjYSFJDFhE2YxGx74Sfd2bmzsVf0cwi4rHA2cAX+/m8YSNJjVjkZDORmZtmOxgRvZa6dmTmrnn02wpcl5l9XfH8wmbZMhgdndcp83XoUGl5ACYn63sM4z4eeKC+xzBG+i1bautffnltfYDLLqvvcfFbzizv8an3T1+SH7wLLz2tvMdp9S3KVP07l5kx4JIXAx/o98M+ICBJmsn0x54fFhGPA54N/Hu/xQwbSWpII1/q3MyxZbINEbE9IlZP+8ivAp/NzL7XidyzkaRGtPI0WmaOA+NzHL8KuGo+NQ0bSWpIC2FTwbCRpEa0MtlUcM9GklTOyUaSGtLVycawkaSGGDaSpFLu2UiStAhONpLUkK5ONoaNJDWiy8toho0kNcSwkSSV62rY+ICAJKmck40kNcI9G0nSUBg2kqRSTjaSpKHoatj4gIAkqZyTjSQ1pKuTjWEjSY1wz0aSNBSGjSSplJPNccuWwYoVRZdyzP0/Li0PwJEj9T0eeKC+x7331veYnKzvMTpaW3/bttr6AHv31vfYtKm+x4WXnlbe45qP31ne47zta8p7aH6cbCSpIU42kqRSLqNJkoaiq2HjlzolSTOKiHWDquVkI0kNaWGyiYiNwNuAs4GnTzv2bODlwK3AU4H/zMyre9U0bCSpES3s2UREAJPAQWBk2rFlwLXAMzPzxxExAtwSEZ/PzO/PVddlNElqyNGjC3sNSh6zHzgww+HVwBOm/pfMfAi4D1jVq66TjSQ1ooXJZi6ZORERnwN2R8Q24PnAvsz8aq9znWwkSfPx68A9wC3Atsz8vX5OMmwkqSGLWEYbi4h9J7wuKbrE1cDNwF8BvxYRV0/t3czJZTRJasgiltEmMnPWX2oUEdnj/B2ZuWuuD0TEY4DrgRdl5g8i4jrgs8ArgY/Nda5hI0mNqNyzycwYQJlnAI/JzB9M1fxCRFwFPBvDRpIeORp6QGCmpbFvAysi4imZeevUe6PA53oVM2wkST8jIjYDW4ENEbEduDYz78rMuyPiQuBdEXEjcApwc2b+Xa+aho0kNaKVR58zcxwYn+XYXmDe/1ENw0aSGtJC2FQwbCSpIYaNJKlUK8toFfxSpySpnJONJDWkq5ONYSNJjejyMpphI0kNMWwkSeW6GjY+ICBJKjevySYTDk/2/E3Si3L//aXlAThypL7H4cP1PYbx92pysr5H9Z/kzjijtj7Anj31PU49tb7HaafV9zhv+5ryHtftua+8R6wcfE33bCRJQ2HYSJJKdXmycc9GklTOyUaSGtLVycawkaSGGDaSpFJd3rMxbCSpIV0NGx8QkCSVc7KRpEa4jCZJGgrDRpJUzrCRJJXq8jKaDwhIkso52UhSQ7o62Rg2ktSILi+jGTaS1JCWwiYi1mXmHYOoZdhIUkNaCJuI2Ai8DTgbePq0Y5uA3wZ+BDwPeF9m7u1V07CRJD0sIgKYBA4CI9OOrQL+AXhmZt4TEWcBN0bEWb0mIJ9Gk6RGHN+zWchrcNeQmZn7gQMzHH4lMJGZ90x99lvAfuAPe9V1spGkhrSwjDaHjcChae/dBjyn14mGjSQ14hHwNNoB4MyIWJaZx6/0bo6F0JxcRpOkbhiLiH0nvC4p6LEbGAMuAYiIxwHnAHf2OtHJRpIasojJZiIzN812MCKyx/k7MnPXXB/IzG9FxK8Ab5x6Ku2rwCrgul4XZ9hIUkOqltEyMwZU5/PA5wEi4peAdcCHe503r7C56aYbJ1asiNsWdIWSFuW6nn921HGxcihtNgy+5I3jEGMLPHlioJcy7bHn6SLiscBHgMsy8zu9ikVmr8lKkvRoEhGbgfcAZwKvBq7NzLtOOP4M4EPAlZl5ZV81DRtJUj+mvtT5cuAosCczez4Y8PC5ho0kqZqPPkuSyhk2kqRyho0kqZxhI0kqZ9hIksoZNpKkcoaNJKmcYSNJKvd/X4SkGR5ekhIAAAAASUVORK5CYII=\n",
      "text/plain": [
       "<Figure size 432x360 with 2 Axes>"
      ]
     },
     "metadata": {},
     "output_type": "display_data"
    }
   ],
   "source": [
    "print('Computing Sij for DES mask')\n",
    "t3 = time.clock()\n",
    "Sijw_part_DES = PySSC.Sij_psky(z_arr,windows_T,clmask=None,mask='./masks/DES-mask-simple-ring-1024.fits')\n",
    "t4 = time.clock()\n",
    "print('Done in %.2f minutes' %((t4-t3)/60))\n",
    "fig = plt.figure(figsize=(6.,5)) \n",
    "ax = fig.add_axes([0.05,0.05,0.75,0.9]) \n",
    "P = ax.imshow(np.log(abs(Sijw_part_DES)),interpolation='none',cmap='bwr',extent=[zmin,zmax,zmax,zmin]) \n",
    "plt.xticks([]) ; plt.yticks([]) \n",
    "ax1 = fig.add_axes([0.85, 0.05, 0.035, 0.9]) \n",
    "cbar = plt.colorbar(P,ax1) \n",
    "cbar.ax.tick_params(labelsize=15) \n",
    "plt.show()"
   ]
  },
  {
   "cell_type": "markdown",
   "metadata": {},
   "source": [
    "## Compute partial sky Sij for Euclid"
   ]
  },
  {
   "cell_type": "code",
   "execution_count": 5,
   "metadata": {},
   "outputs": [
    {
     "name": "stdout",
     "output_type": "stream",
     "text": [
      "Computing Sij for DES mask\n",
      "Using mask map, given as a fits file\n",
      "lmax = 12\n",
      "f_sky = 0.38\n",
      "Done in 0.31 minutes\n"
     ]
    },
    {
     "data": {
      "image/png": "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\n",
      "text/plain": [
       "<Figure size 432x360 with 2 Axes>"
      ]
     },
     "metadata": {
      "needs_background": "light"
     },
     "output_type": "display_data"
    }
   ],
   "source": [
    "print('Computing Sij for Euclid mask')\n",
    "t3 = time.clock()\n",
    "Sijw_part_Euclid = PySSC.Sij_psky(z_arr,windows_T,clmask=None,mask='./masks/Euclid_map_WIDE_SURVEY.fits')\n",
    "t4 = time.clock()\n",
    "print('Done in %.2f minutes' %((t4-t3)/60))\n",
    "fig = plt.figure(figsize=(6.,5)) \n",
    "ax = fig.add_axes([0.05,0.05,0.75,0.9]) \n",
    "P = ax.imshow(np.log(abs(Sijw_part_Euclid)),interpolation='none',cmap='bwr',extent=[zmin,zmax,zmax,zmin]) \n",
    "plt.xticks([]) ; plt.yticks([]) \n",
    "ax1 = fig.add_axes([0.85, 0.05, 0.035, 0.9]) \n",
    "cbar = plt.colorbar(P,ax1) \n",
    "cbar.ax.tick_params(labelsize=15) \n",
    "plt.show()"
   ]
  },
  {
   "cell_type": "markdown",
   "metadata": {},
   "source": [
    "## Compute partial sky Sij for small patch of sky (5deg)"
   ]
  },
  {
   "cell_type": "code",
   "execution_count": 6,
   "metadata": {},
   "outputs": [
    {
     "name": "stdout",
     "output_type": "stream",
     "text": [
      "Computing Sij for a 5 deg patch of sky\n",
      "Using mask map, given as a fits file\n",
      "lmax = 102\n",
      "f_sky = 0.00\n",
      "Done in 4.50 minutes\n"
     ]
    },
    {
     "data": {
      "image/png": "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\n",
      "text/plain": [
       "<Figure size 432x360 with 2 Axes>"
      ]
     },
     "metadata": {
      "needs_background": "light"
     },
     "output_type": "display_data"
    }
   ],
   "source": [
    "print('Computing Sij for a 5 deg patch of sky')\n",
    "t3 = time.clock()\n",
    "Sijw_part_patch = PySSC.Sij_psky(z_arr,windows_T,clmask=None,mask='./masks/circular-mask_5deg.fits')\n",
    "t4 = time.clock()\n",
    "print('Done in %.2f minutes' %((t4-t3)/60))\n",
    "fig = plt.figure(figsize=(6.,5)) \n",
    "ax = fig.add_axes([0.05,0.05,0.75,0.9]) \n",
    "P = ax.imshow(np.log(abs(Sijw_part_patch)),interpolation='none',cmap='bwr',extent=[zmin,zmax,zmax,zmin]) \n",
    "plt.xticks([]) ; plt.yticks([]) \n",
    "ax1 = fig.add_axes([0.85, 0.05, 0.035, 0.9]) \n",
    "cbar = plt.colorbar(P,ax1) \n",
    "cbar.ax.tick_params(labelsize=15) \n",
    "plt.show()"
   ]
  },
  {
   "cell_type": "code",
   "execution_count": null,
   "metadata": {},
   "outputs": [],
   "source": []
  }
 ],
 "metadata": {
  "kernelspec": {
   "display_name": "Python 3",
   "language": "python",
   "name": "python3"
  },
  "language_info": {
   "codemirror_mode": {
    "name": "ipython",
    "version": 3
   },
   "file_extension": ".py",
   "mimetype": "text/x-python",
   "name": "python",
   "nbconvert_exporter": "python",
   "pygments_lexer": "ipython3",
   "version": "3.6.8"
  }
 },
 "nbformat": 4,
 "nbformat_minor": 2
}

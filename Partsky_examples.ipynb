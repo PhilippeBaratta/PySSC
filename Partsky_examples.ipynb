{
 "cells": [
  {
   "cell_type": "code",
   "execution_count": 1,
   "metadata": {},
   "outputs": [],
   "source": [
    "import math ; pi=math.pi\n",
    "import numpy as np\n",
    "import matplotlib\n",
    "import matplotlib.pyplot as plt\n",
    "%matplotlib inline\n",
    "matplotlib.rcParams['mathtext.fontset'] = 'stix'\n",
    "matplotlib.rcParams['font.family'] = 'STIXGeneral'\n",
    "import time"
   ]
  },
  {
   "cell_type": "code",
   "execution_count": 2,
   "metadata": {},
   "outputs": [],
   "source": [
    "# Import PySSC module\n",
    "import PySSC"
   ]
  },
  {
   "cell_type": "markdown",
   "metadata": {},
   "source": [
    "## Define window function"
   ]
  },
  {
   "cell_type": "code",
   "execution_count": 4,
   "metadata": {},
   "outputs": [],
   "source": [
    "# z bins of the survey\n",
    "zstakes = np.linspace(0.2,1.5,num=14)\n",
    "zmin = np.min(zstakes) ; zmax = np.max(zstakes)\n",
    "# Define redshift range\n",
    "nz       = 500\n",
    "z_arr    = np.linspace(0,2,num=nz+1)[1:] # Redshifts must be > 0\n",
    "# Window function\n",
    "nbins_T   = len(zstakes)-1\n",
    "windows_T = np.zeros((nbins_T,nz))\n",
    "for i in range(nbins_T):\n",
    "    zminbin = zstakes[i] ; zmaxbin = zstakes[i+1] ; Dz = zmaxbin-zminbin\n",
    "    for iz in range(nz):\n",
    "        z = z_arr[iz]\n",
    "        if ((z>zminbin) and (z<=zmaxbin)):\n",
    "            windows_T[i,iz] = 1/Dz"
   ]
  },
  {
   "cell_type": "markdown",
   "metadata": {},
   "source": [
    "## Compute Sij for full sky"
   ]
  },
  {
   "cell_type": "code",
   "execution_count": 6,
   "metadata": {},
   "outputs": [
    {
     "name": "stdout",
     "output_type": "stream",
     "text": [
      "Using mask map, given as a fits file\n",
      "NSIDE = 1024\n",
      "ORDERING = RING in fits file\n",
      "INDXSCHM = IMPLICIT\n",
      "lmax = 102\n",
      "f_sky = 1.00\n",
      "3.5739520000000002 271.213218\n"
     ]
    }
   ],
   "source": [
    "# Uses original function, for the full sky\n",
    "t0 = time.clock()\n",
    "Sijw_full = PySSC.Sij(z_arr,windows_T)\n",
    "# Uses the partial sky Sij function, but for a full sky mask (long time)\n",
    "t1 = time.clock()\n",
    "Sijw_part = PySSC.Sij_psky(z_arr,windows_T,clmask=None,mask='./mask/full_sky_map.fits') #long computation\n",
    "t2 = time.clock()\n",
    "print(t1-t0,t2-t0)"
   ]
  },
  {
   "cell_type": "code",
   "execution_count": 7,
   "metadata": {},
   "outputs": [
    {
     "data": {
      "image/png": "[encoded data removed]",
      "text/plain": [
       "<Figure size 576x252 with 3 Axes>"
      ]
     },
     "metadata": {
      "needs_background": "light"
     },
     "output_type": "display_data"
    }
   ],
   "source": [
    "# Compare results\n",
    "fig,axes=plt.subplots(nrows=1,ncols=2,figsize=(8,3.5))\n",
    "im = axes[0].imshow(np.log(abs(Sijw_full)),interpolation='none',cmap='bwr',extent=[zmin,zmax,zmax,zmin])\n",
    "im2 = axes[1].imshow(np.log(abs(Sijw_part)),interpolation='none',cmap='bwr',extent=[zmin,zmax,zmax,zmin])\n",
    "for ax in axes:\n",
    "    ax.get_xaxis().set_ticks([])\n",
    "    ax.get_yaxis().set_ticks([])\n",
    "axes[0].set_title('Full sky Sij')\n",
    "axes[1].set_title('Partial sky Sij with full sky mask')\n",
    "fig.subplots_adjust(left=0.02,bottom=0.08,top=0.9,wspace=0.002)\n",
    "cbar_ax = fig.add_axes([0.9, 0.08, 0.02, 0.87])\n",
    "c_bar=fig.colorbar(im,cax=cbar_ax,fraction=.5)\n",
    "plt.show()"
   ]
  },
  {
   "cell_type": "markdown",
   "metadata": {},
   "source": [
    "## Compute partial sky Sij for DES"
   ]
  },
  {
   "cell_type": "code",
   "execution_count": 5,
   "metadata": {},
   "outputs": [
    {
     "name": "stdout",
     "output_type": "stream",
     "text": [
      "Computing Sij for DES mask\n",
      "Using mask map, given as a fits file\n",
      "lmax = 102\n",
      "f_sky = 0.12\n",
      "Done in 4.43 minutes\n"
     ]
    },
    {
     "data": {
      "image/png": "[encoded data removed]",
      "text/plain": [
       "<Figure size 432x360 with 2 Axes>"
      ]
     },
     "metadata": {
      "needs_background": "light"
     },
     "output_type": "display_data"
    }
   ],
   "source": [
    "print('Computing Sij for DES mask')\n",
    "t3 = time.clock()\n",
    "Sijw_part_DES = PySSC.Sij_psky(z_arr,windows_T,clmask=None,mask='./mask/DES-mask-simple-ring-1024.fits')\n",
    "t4 = time.clock()\n",
    "print('Done in %.2f minutes' %((t4-t3)/60))\n",
    "fig = plt.figure(figsize=(6.,5)) \n",
    "ax = fig.add_axes([0.05,0.05,0.75,0.9]) \n",
    "P = ax.imshow(np.log(abs(Sijw_part_DES)),interpolation='none',cmap='bwr',extent=[zmin,zmax,zmax,zmin]) \n",
    "plt.xticks([]) ; plt.yticks([]) \n",
    "ax1 = fig.add_axes([0.85, 0.05, 0.035, 0.9]) \n",
    "cbar = plt.colorbar(P,ax1) \n",
    "cbar.ax.tick_params(labelsize=15) \n",
    "plt.show()"
   ]
  },
  {
   "cell_type": "code",
   "execution_count": null,
   "metadata": {},
   "outputs": [],
   "source": []
  }
 ],
 "metadata": {
  "kernelspec": {
   "display_name": "Python 3",
   "language": "python",
   "name": "python3"
  },
  "language_info": {
   "codemirror_mode": {
    "name": "ipython",
    "version": 3
   },
   "file_extension": ".py",
   "mimetype": "text/x-python",
   "name": "python",
   "nbconvert_exporter": "python",
   "pygments_lexer": "ipython3",
   "version": "3.6.9"
  }
 },
 "nbformat": 4,
 "nbformat_minor": 2
}

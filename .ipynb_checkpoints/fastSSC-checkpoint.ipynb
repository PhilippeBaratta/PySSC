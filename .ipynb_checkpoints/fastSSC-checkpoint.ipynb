{
 "cells": [
  {
   "cell_type": "markdown",
   "metadata": {},
   "source": [
    "<h1>Import modules</h1>"
   ]
  },
  {
   "cell_type": "code",
   "execution_count": 2,
   "metadata": {
    "collapsed": true
   },
   "outputs": [],
   "source": [
    "# Modules necessary for computation\n",
    "import math ; pi=math.pi\n",
    "import numpy as np\n",
    "import scipy.integrate as integrate\n",
    "from scipy.interpolate import interp1d\n",
    "from classy import Class"
   ]
  },
  {
   "cell_type": "code",
   "execution_count": 3,
   "metadata": {
    "collapsed": true
   },
   "outputs": [],
   "source": [
    "# Optional modules\n",
    "import matplotlib\n",
    "import matplotlib.pyplot as plt\n",
    "%matplotlib inline\n",
    "matplotlib.rcParams['mathtext.fontset'] = 'stix'\n",
    "matplotlib.rcParams['font.family'] = 'STIXGeneral'"
   ]
  },
  {
   "cell_type": "markdown",
   "metadata": {},
   "source": [
    "<h1>Compute cosmology and P(k) with CLASS</h1>"
   ]
  },
  {
   "cell_type": "code",
   "execution_count": 4,
   "metadata": {
    "collapsed": true
   },
   "outputs": [],
   "source": [
    "# Make a CLASS class\n",
    "cosmo = Class()\n",
    "# Set cosmological parameters\n",
    "ombh2  = 0.022 \n",
    "omch2  = 0.12\n",
    "omk    = 0.\n",
    "hubble = 67.\n",
    "ns     =  0.96\n",
    "sig8   =  0.81 \n",
    "cosmo.set({'omega_b':ombh2,'omega_cdm':omch2,'H0':hubble,'n_s':ns,'sigma8':sig8,'output':'mPk'})\n",
    "h      = hubble/100. #for  conversions Mpc/h <-> Mpc\n",
    "# Computation itself\n",
    "cosmo.compute()"
   ]
  },
  {
   "cell_type": "markdown",
   "metadata": {},
   "source": [
    "<h1>Compute Sij matrix</h1>"
   ]
  },
  {
   "cell_type": "markdown",
   "metadata": {},
   "source": [
    "<h3>Define arrays of z, r(z), k, P(k)...</h3>"
   ]
  },
  {
   "cell_type": "code",
   "execution_count": 5,
   "metadata": {
    "collapsed": true
   },
   "outputs": [],
   "source": [
    "# Redshift bins and array\n",
    "zstakes   = [0.9,1]\n",
    "nz_perbin = 10\n",
    "nzbins    = len(zstakes)-1\n",
    "# Redshift and comoving distance arrays\n",
    "z_arr      = np.zeros((nz_perbin,nzbins))\n",
    "comov_dist = np.zeros((nz_perbin,nzbins))\n",
    "for j in range(nzbins):\n",
    "    z_arr[:,j] = np.linspace(zstakes[j],zstakes[j+1],nz_perbin)\n",
    "    comov_dist[:,j] = (cosmo.z_of_r(z_arr[:,j]))[0] #In Mpc\n",
    "# Fourier wavevectors\n",
    "keq = 0.02/h                           #Equality matter radiation in 1/Mpc (more or less)\n",
    "klogwidth = 10                         #Factor of width of the integration range. 10 seems ok ; going higher needs to increase nk_fft to reach convergence (fine cancellation issue noted in Lacasa & Grain)\n",
    "kmin = min(keq,1./comov_dist.max())/klogwidth\n",
    "kmax = max(keq,1./comov_dist.min())*klogwidth\n",
    "nk_fft = 2**11                          #seems to be enough. Test precision by increasing, reduce to speed up.\n",
    "k_4fft = np.linspace(kmin,kmax,nk_fft) #linear grid on k, as we need to use an FFT\n",
    "Deltak = kmax - kmin ; Dk = Deltak/nk_fft\n",
    "# Power spectrum\n",
    "Pk_4fft = np.zeros(nk_fft)\n",
    "for ik in range(nk_fft):\n",
    "    Pk_4fft[ik] = cosmo.pk(k_4fft[ik],0.)  #In Mpc^3\n",
    "# Points where the FFT is computed\n",
    "dr_fft = np.linspace(0,nk_fft//2,nk_fft//2+1)*2*pi/Deltak "
   ]
  },
  {
   "cell_type": "markdown",
   "metadata": {},
   "source": [
    "<h3>Compute necessary FFTs and make interpolation functions</h3>"
   ]
  },
  {
   "cell_type": "code",
   "execution_count": 6,
   "metadata": {
    "collapsed": true
   },
   "outputs": [],
   "source": [
    "# n=2\n",
    "fft2 = np.fft.rfft(Pk_4fft/k_4fft**2)*Dk\n",
    "dct2 = fft2.real ; dst2 = -fft2.imag\n",
    "km2Pk_dct = interp1d(dr_fft,dct2,kind='cubic')\n",
    "# n=3\n",
    "fft3 = np.fft.rfft(Pk_4fft/k_4fft**3)*Dk\n",
    "dct3 = fft3.real ; dst3 = -fft3.imag\n",
    "km3Pk_dst = interp1d(dr_fft,dst3,kind='cubic')\n",
    "# n=4\n",
    "fft4 = np.fft.rfft(Pk_4fft/k_4fft**4)*Dk\n",
    "dct4 = fft4.real ; dst4 = -fft4.imag\n",
    "km4Pk_dct = interp1d(dr_fft,dct4,kind='cubic')"
   ]
  },
  {
   "cell_type": "markdown",
   "metadata": {},
   "source": [
    "<h3>Compute Sij finally</h3>"
   ]
  },
  {
   "cell_type": "code",
   "execution_count": 7,
   "metadata": {
    "collapsed": true
   },
   "outputs": [],
   "source": [
    "Sij = np.zeros((nzbins,nzbins))\n",
    "for j1 in range(nzbins):\n",
    "    rmin1   = (comov_dist[:,j1]).min()\n",
    "    rmax1   = (comov_dist[:,j1]).max()\n",
    "    zmean1  = ((z_arr[:,j1]).min()+(z_arr[:,j1]).max())/2\n",
    "    growth1 = cosmo.scale_independent_growth_factor(zmean1)\n",
    "    pref1   = 3. * growth1 / (rmax1**3-rmin1**3)\n",
    "    for j2 in range(nzbins):\n",
    "        rmin2   = (comov_dist[:,j2]).min()\n",
    "        rmax2   = (comov_dist[:,j2]).max()\n",
    "        zmean2  = ((z_arr[:,j2]).min()+(z_arr[:,j2]).max())/2\n",
    "        growth2 = cosmo.scale_independent_growth_factor(zmean2)\n",
    "        pref2   = 3. * growth2 / (rmax2**3-rmin2**3)\n",
    "        #p1p2: rmax1 & rmax2\n",
    "        rsum  = rmax1+rmax2\n",
    "        rdiff = abs(rmax1-rmax2)\n",
    "        rprod = rmax1*rmax2\n",
    "        Icp2 = km2Pk_dct(rsum) ; Icm2 = km2Pk_dct(rdiff)\n",
    "        Isp3 = km3Pk_dst(rsum) ; Ism3 = km3Pk_dst(rdiff)\n",
    "        Icp4 = km4Pk_dct(rsum) ; Icm4 = km4Pk_dct(rdiff)\n",
    "        Fp1p2 = -Icp4 + Icm4 - rsum*Isp3 + rdiff*Ism3 + rprod*(Icp2+Icm2)\n",
    "        #p1m2: rmax1 & rmin2\n",
    "        rsum  = rmax1+rmin2\n",
    "        rdiff = abs(rmax1-rmin2)\n",
    "        rprod = rmax1*rmin2\n",
    "        Icp2 = km2Pk_dct(rsum) ; Icm2 = km2Pk_dct(rdiff)\n",
    "        Isp3 = km3Pk_dst(rsum) ; Ism3 = km3Pk_dst(rdiff)\n",
    "        Icp4 = km4Pk_dct(rsum) ; Icm4 = km4Pk_dct(rdiff)\n",
    "        Fp1m2 = -Icp4 + Icm4 - rsum*Isp3 + rdiff*Ism3 + rprod*(Icp2+Icm2)\n",
    "        #m1p2: rmin1 & rmax2\n",
    "        rsum  = rmin1+rmax2\n",
    "        rdiff = abs(rmin1-rmax2)\n",
    "        rprod = rmin1*rmax2\n",
    "        Icp2 = km2Pk_dct(rsum) ; Icm2 = km2Pk_dct(rdiff)\n",
    "        Isp3 = km3Pk_dst(rsum) ; Ism3 = km3Pk_dst(rdiff)\n",
    "        Icp4 = km4Pk_dct(rsum) ; Icm4 = km4Pk_dct(rdiff)\n",
    "        Fm1p2 = -Icp4 + Icm4 - rsum*Isp3 + rdiff*Ism3 + rprod*(Icp2+Icm2) \n",
    "        #m1m2: rmin1 & rmin2\n",
    "        rsum  = rmin1+rmin2\n",
    "        rdiff = abs(rmin1-rmin2)\n",
    "        rprod = rmin1*rmin2\n",
    "        Icp2 = km2Pk_dct(rsum) ; Icm2 = km2Pk_dct(rdiff)\n",
    "        Isp3 = km3Pk_dst(rsum) ; Ism3 = km3Pk_dst(rdiff)\n",
    "        Icp4 = km4Pk_dct(rsum) ; Icm4 = km4Pk_dct(rdiff)\n",
    "        Fm1m2 = -Icp4 + Icm4 - rsum*Isp3 + rdiff*Ism3 + rprod*(Icp2+Icm2)\n",
    "        #now group everything\n",
    "        Fsum = Fp1p2 - Fp1m2 - Fm1p2 + Fm1m2\n",
    "        Sij[j1,j2] = pref1 * pref2 * Fsum/(4*pi**2)"
   ]
  },
  {
   "cell_type": "code",
   "execution_count": 8,
   "metadata": {},
   "outputs": [
    {
     "name": "stdout",
     "output_type": "stream",
     "text": [
      "[[  6.11324990e-07]]\n"
     ]
    }
   ],
   "source": [
    "print Sij"
   ]
  },
  {
   "cell_type": "markdown",
   "metadata": {
    "collapsed": true
   },
   "source": [
    "<h1>Reproduce results from arXiv:1809.05437</h1>"
   ]
  },
  {
   "cell_type": "markdown",
   "metadata": {
    "collapsed": true
   },
   "source": [
    "<h3>Maximum signal to noise</h3>"
   ]
  },
  {
   "cell_type": "code",
   "execution_count": 9,
   "metadata": {},
   "outputs": [],
   "source": [
    "# Response of the observable, see article\n",
    "R = 5\n",
    "# Maximum signal to noise\n",
    "SNR_max = 1./(R*np.sqrt(Sij))    \n",
    "# Knee multipole where SSC dominates.\n",
    "# Assumes cosmic-variance limited, i.e. negligible shot-noise\n",
    "ell_SSC = np.sqrt(2./(R**2*Sij)) # = sqrt(2)*SNR_max"
   ]
  },
  {
   "cell_type": "code",
   "execution_count": 10,
   "metadata": {},
   "outputs": [
    {
     "name": "stdout",
     "output_type": "stream",
     "text": [
      "Maximum signal to noise: [[ 255.79610129]]\n",
      "SSC multipole: [[ 361.75031565]]\n"
     ]
    }
   ],
   "source": [
    "print 'Maximum signal to noise:', SNR_max\n",
    "print 'SSC multipole:', ell_SSC"
   ]
  },
  {
   "cell_type": "code",
   "execution_count": null,
   "metadata": {
    "collapsed": true
   },
   "outputs": [],
   "source": []
  },
  {
   "cell_type": "code",
   "execution_count": null,
   "metadata": {
    "collapsed": true
   },
   "outputs": [],
   "source": []
  },
  {
   "cell_type": "code",
   "execution_count": null,
   "metadata": {
    "collapsed": true
   },
   "outputs": [],
   "source": []
  }
 ],
 "metadata": {
  "kernelspec": {
   "display_name": "Python 2",
   "language": "python",
   "name": "python2"
  },
  "language_info": {
   "codemirror_mode": {
    "name": "ipython",
    "version": 2
   },
   "file_extension": ".py",
   "mimetype": "text/x-python",
   "name": "python",
   "nbconvert_exporter": "python",
   "pygments_lexer": "ipython2",
   "version": "2.7.12"
  }
 },
 "nbformat": 4,
 "nbformat_minor": 2
}
